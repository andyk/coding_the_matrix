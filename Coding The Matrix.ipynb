{
 "cells": [
  {
   "cell_type": "markdown",
   "metadata": {},
   "source": [
    "# Coding the Matrix Exercises"
   ]
  },
  {
   "cell_type": "markdown",
   "metadata": {},
   "source": [
    "## Exercises (i.e. \"quizzes\") from Chapter 2 on Vectors"
   ]
  },
  {
   "cell_type": "code",
   "execution_count": 127,
   "metadata": {},
   "outputs": [],
   "source": [
    "class Vec:\n",
    "    def __init__(self, labels, function):\n",
    "        self.D = labels\n",
    "        self.f = function\n",
    "        assert all([k in self.D for k in self.f.keys()]), \"function maps from an element that is not in vector's domain.\"\n",
    "    \n",
    "    def set_item(self, d, val):\n",
    "        assert d in self.D, f\"Error in set_item(): {d} not in vec.D\"\n",
    "        self.f[d] = val\n",
    "\n",
    "    def get_item(self, d):\n",
    "        assert d in self.D\n",
    "        return self.f[d] if d in self.f else 0\n",
    "    \n",
    "    def __repr__(self):\n",
    "        return f\"Vec({self.D}, {self.f})\"\n",
    "    \n",
    "    def __str__(self):\n",
    "        res = \" \".join(sorted(self.D)) + \"\\n\"\n",
    "        res += \"\".join(['--' for d in self.D]) + \"\\n\"\n",
    "        res += \" \".join([str(self.f[d]) if d in self.f else \"0\" for d in sorted(self.D)])\n",
    "        return res\n",
    "    \n",
    "test_vec = Vec({1}, {})\n",
    "test_vec.set_item(1, 3.)\n",
    "assert test_vec.get_item(1) == 3.\n",
    "\n",
    "\n",
    "def zero_vec(D): return Vec(D, {})\n",
    "\n",
    "assert isinstance(zero_vec({1}), Vec) and not zero_vec({1}).f\n",
    "    \n",
    "\n",
    "def scalar_mul(v, x): return Vec(v.D, {key: val * x for key, val in v.f.items()})\n",
    "\n",
    "test_vec = Vec({1}, {1: 10.})\n",
    "assert scalar_mul(test_vec, 2.).get_item(1) == 20.\n",
    "assert scalar_mul(test_vec, 0.).get_item(1) == 0\n",
    "\n",
    "\n",
    "def add(u, v): return Vec(u.D, {k: u.get_item(k) + v.get_item(k) for k in u.D})\n",
    "\n",
    "one, two = Vec({'A', 'B'}, {'B':10}), Vec({'A', 'B'}, {'A':100, 'B':.5})\n",
    "assert add(one, two).f == {'A': 100, 'B': 10.5}\n",
    "\n",
    "\n",
    "def add_other(self, other_vec): return add(self, other_vec)\n",
    "setattr(Vec, '__add__', add_other)\n",
    "\n",
    "def sub_other(self, other_vec): return add(self, scalar_mul(other_vec, -1))\n",
    "setattr(Vec, '__sub__', sub_other)\n",
    "\n",
    "one, two = Vec({'A', 'B'}, {'B':10}), Vec({'A', 'B'}, {'A':100, 'B':.5})\n",
    "assert (one + two).f == {'A': 100, 'B': 10.5}\n",
    "assert (one - two).f == {'A': -100, 'B': 9.5}\n",
    "\n",
    "def neg(v): return scalar_mul(v, -1).f\n",
    "\n",
    "test_vec = Vec({1}, {1: 10.})\n",
    "assert neg(test_vec) == {1: -10.}\n",
    "\n",
    "\n",
    "def dot(v1, v2): \n",
    "    assert(v1.D == v2.D)\n",
    "    return sum((v1.get_item(i) * v2.get_item(i) for i in v1.D))\n",
    "\n",
    "one, two = Vec({'A', 'B'}, {'B':10}), Vec({'A', 'B'}, {'A':100, 'B':.5})\n",
    "assert dot(one, two) == 5.0\n",
    "\n",
    "\n",
    "def dot_other(self, other_vec): return dot(self, other_vec)\n",
    "setattr(Vec, '__mul__', dot_other)\n",
    "\n",
    "one, two = Vec({'A', 'B'}, {'B':10}), Vec({'A', 'B'}, {'A':100, 'B':.5})\n",
    "assert one * two == 5.0\n"
   ]
  }
 ],
 "metadata": {
  "kernelspec": {
   "display_name": "Python 3",
   "language": "python",
   "name": "python3"
  },
  "language_info": {
   "codemirror_mode": {
    "name": "ipython",
    "version": 3
   },
   "file_extension": ".py",
   "mimetype": "text/x-python",
   "name": "python",
   "nbconvert_exporter": "python",
   "pygments_lexer": "ipython3",
   "version": "3.8.2"
  }
 },
 "nbformat": 4,
 "nbformat_minor": 4
}
